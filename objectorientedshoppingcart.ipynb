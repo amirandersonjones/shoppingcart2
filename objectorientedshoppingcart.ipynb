{
 "cells": [
  {
   "cell_type": "markdown",
   "metadata": {},
   "source": [
    "# Data Collections 2 (Dictionaries, Sets) and Importing Modules"
   ]
  },
  {
   "cell_type": "markdown",
   "metadata": {},
   "source": [
    "## Tasks Today:\n",
    "\n",
    "1) Dictionary <br>\n",
    " &nbsp;&nbsp;&nbsp;&nbsp; a) Declaring (key, value) <br>\n",
    " &nbsp;&nbsp;&nbsp;&nbsp; b) Accessing Values <br>\n",
    " &nbsp;&nbsp;&nbsp;&nbsp; ------ Exercise #1 - Print the eye color of each person in a double nested dict <br>\n",
    " &nbsp;&nbsp;&nbsp;&nbsp; c) Adding New Pairs <br>\n",
    " &nbsp;&nbsp;&nbsp;&nbsp; d) Modifying Values <br>\n",
    " &nbsp;&nbsp;&nbsp;&nbsp; e) Removing Key, Value Pairs <br>\n",
    " &nbsp;&nbsp;&nbsp;&nbsp; f) Looping a Dictionary <br>\n",
    " &nbsp;&nbsp;&nbsp;&nbsp; g) Looping Only Keys <br>\n",
    " &nbsp;&nbsp;&nbsp;&nbsp; h) Looping Only Values <br>\n",
    " &nbsp;&nbsp;&nbsp;&nbsp; ------ Exercise #2 - Create a Function that Prints All Key Value Pairs within a print .format()  <br>\n",
    " &nbsp;&nbsp;&nbsp;&nbsp; i) sorted() <br>\n",
    " &nbsp;&nbsp;&nbsp;&nbsp; j) Lists with Dictionaries <br>\n",
    " &nbsp;&nbsp;&nbsp;&nbsp; k) Dictionaries with Lists <br>\n",
    " &nbsp;&nbsp;&nbsp;&nbsp; l) Dictionaries with Dictionaries <br>\n",
    " &nbsp;&nbsp;&nbsp;&nbsp; ------ Exercise #3 - Write a Function that asks someone's name and address, and then stores that into a dictionary, which prints all names and addresses after they're done putting information in...  <br>\n",
    "2) Dictionaries vs. Lists (over time)<br>\n",
    "3) Set <br>\n",
    " &nbsp;&nbsp;&nbsp;&nbsp; a) Declaring <br>\n",
    " &nbsp;&nbsp;&nbsp;&nbsp; b) .add() <br>\n",
    " &nbsp;&nbsp;&nbsp;&nbsp; c) .remove() <br>\n",
    " &nbsp;&nbsp;&nbsp;&nbsp; d) .union() <br>\n",
    " &nbsp;&nbsp;&nbsp;&nbsp; e) .intersection() <br>\n",
    " &nbsp;&nbsp;&nbsp;&nbsp; f) .difference() <br>\n",
    " &nbsp;&nbsp;&nbsp;&nbsp; g) Frozen Set <br>\n",
    "4) Modules <br>\n",
    " &nbsp;&nbsp;&nbsp;&nbsp; a) Importing Entire Modules <br>\n",
    " &nbsp;&nbsp;&nbsp;&nbsp; b) Importing Methods Only <br>\n",
    " &nbsp;&nbsp;&nbsp;&nbsp; c) Using the 'as' Keyword <br>\n",
    " &nbsp;&nbsp;&nbsp;&nbsp; d) Creating a Module <br>\n",
    "5) Exercises <br>\n",
    " &nbsp;&nbsp;&nbsp;&nbsp; a) Build a Shopping Cart <br>\n",
    " &nbsp;&nbsp;&nbsp;&nbsp; b) Create Your Own Module <br>"
   ]
  },
  {
   "cell_type": "markdown",
   "metadata": {},
   "source": [
    "## Dictionary <br>\n",
    "<p>A collection of data with 'key:value' pairs. Dictionaries are ordered as of Python 3.6</p>"
   ]
  },
  {
   "cell_type": "markdown",
   "metadata": {},
   "source": [
    "##### Declaring (key, value)"
   ]
  },
  {
   "cell_type": "code",
   "execution_count": null,
   "metadata": {},
   "outputs": [],
   "source": [
    "# {K:V, K:V, K:V}\n",
    "players = {'Joao Cancelo': 27, 'Bernardo Silva': 21, 'Kevin De Bryne': 17 }\n",
    "#keys can be any singular datatype-almost always strings or integers-can be boolean\n",
    "#values can be anything-a string, an int, a list, another dictionary"
   ]
  },
  {
   "cell_type": "markdown",
   "metadata": {},
   "source": [
    "##### Accessing Values"
   ]
  },
  {
   "cell_type": "code",
   "execution_count": 3,
   "metadata": {},
   "outputs": [
    {
     "ename": "NameError",
     "evalue": "name 'players' is not defined",
     "output_type": "error",
     "traceback": [
      "\u001b[1;31m---------------------------------------------------------------------------\u001b[0m",
      "\u001b[1;31mNameError\u001b[0m                                 Traceback (most recent call last)",
      "\u001b[1;32m~\\AppData\\Local\\Temp/ipykernel_15032/2359484431.py\u001b[0m in \u001b[0;36m<module>\u001b[1;34m\u001b[0m\n\u001b[0;32m      1\u001b[0m \u001b[1;31m#name_of_dic[key]\u001b[0m\u001b[1;33m\u001b[0m\u001b[1;33m\u001b[0m\u001b[0m\n\u001b[1;32m----> 2\u001b[1;33m \u001b[0mprint\u001b[0m\u001b[1;33m(\u001b[0m\u001b[0mplayers\u001b[0m\u001b[1;33m[\u001b[0m\u001b[1;34m'Joao Cancelo'\u001b[0m\u001b[1;33m]\u001b[0m\u001b[1;33m)\u001b[0m\u001b[1;33m\u001b[0m\u001b[1;33m\u001b[0m\u001b[0m\n\u001b[0m\u001b[0;32m      3\u001b[0m \u001b[0mprint\u001b[0m\u001b[1;33m(\u001b[0m\u001b[0mplayers\u001b[0m\u001b[1;33m[\u001b[0m\u001b[1;36m27\u001b[0m\u001b[1;33m]\u001b[0m\u001b[1;33m)\u001b[0m\u001b[1;33m\u001b[0m\u001b[1;33m\u001b[0m\u001b[0m\n\u001b[0;32m      4\u001b[0m \u001b[1;31m#if yu try to access a key that doesn;t exist you het a keyerror\u001b[0m\u001b[1;33m\u001b[0m\u001b[1;33m\u001b[0m\u001b[0m\n\u001b[0;32m      5\u001b[0m \u001b[0mprint\u001b[0m\u001b[1;33m(\u001b[0m\u001b[1;33m)\u001b[0m\u001b[1;33m\u001b[0m\u001b[1;33m\u001b[0m\u001b[0m\n",
      "\u001b[1;31mNameError\u001b[0m: name 'players' is not defined"
     ]
    }
   ],
   "source": [
    "#name_of_dic[key]\n",
    "print(players['Joao Cancelo'])\n",
    "print(players[27])\n",
    "#if yu try to access a key that doesn;t exist you get a keyerror\n",
    "print()"
   ]
  },
  {
   "cell_type": "markdown",
   "metadata": {},
   "source": [
    "## In-Class Exercise #1 - Print a formatted statement from the dictionary below <br>\n",
    "<p>The output should be '2018 Chevrolet Silverado'</p>"
   ]
  },
  {
   "cell_type": "code",
   "execution_count": 14,
   "metadata": {},
   "outputs": [
    {
     "name": "stdout",
     "output_type": "stream",
     "text": [
      "2018 Chevrolet Silverado\n",
      "2018 Chevrolet Silverado\n"
     ]
    }
   ],
   "source": [
    "# use the dict below\n",
    "truck = {\n",
    "    'year': 2018,\n",
    "    'make': 'Chevrolet',\n",
    "    'model': 'Silverado'\n",
    "}\n",
    "\n",
    "print(f\"{truck['year']} {truck['make']} {truck['model']}\")\n",
    "print(truck['year'], truck['make'], truck['model'])"
   ]
  },
  {
   "cell_type": "markdown",
   "metadata": {},
   "source": [
    "##### Adding New Pairs"
   ]
  },
  {
   "cell_type": "code",
   "execution_count": null,
   "metadata": {},
   "outputs": [],
   "source": []
  },
  {
   "cell_type": "markdown",
   "metadata": {},
   "source": [
    "##### Modifying Values"
   ]
  },
  {
   "cell_type": "code",
   "execution_count": null,
   "metadata": {},
   "outputs": [],
   "source": [
    "#variable redeifinit of a key\n",
    "#dic[key] = new_value\n",
    "players['Kyle Walker'] = 2"
   ]
  },
  {
   "cell_type": "markdown",
   "metadata": {},
   "source": [
    "##### Removing Key, Value Pairs"
   ]
  },
  {
   "cell_type": "code",
   "execution_count": null,
   "metadata": {},
   "outputs": [],
   "source": []
  },
  {
   "cell_type": "markdown",
   "metadata": {},
   "source": [
    "##### Looping a Dictionary"
   ]
  },
  {
   "cell_type": "code",
   "execution_count": null,
   "metadata": {},
   "outputs": [],
   "source": [
    "#best practice approach/most efficient approach\n",
    "#directly loop the dictionary's keys\n",
    "#for k in dic:\n",
    "players = {'Joao Cancelor': 27, 'Bernardo Silva': 21, 'Kevin De Bruyne': 17, 'Ederson Moraes': 1}\n",
    "\n",
    "#gives access directly to the keys and thru brackets\n"
   ]
  },
  {
   "cell_type": "markdown",
   "metadata": {},
   "source": [
    "##### Looping Only Keys"
   ]
  },
  {
   "cell_type": "code",
   "execution_count": null,
   "metadata": {},
   "outputs": [],
   "source": [
    "# .keys()\n",
    "\n"
   ]
  },
  {
   "cell_type": "markdown",
   "metadata": {},
   "source": [
    "##### Looping Only Values"
   ]
  },
  {
   "cell_type": "code",
   "execution_count": null,
   "metadata": {},
   "outputs": [],
   "source": [
    "# .values()\n",
    "\n"
   ]
  },
  {
   "cell_type": "markdown",
   "metadata": {},
   "source": [
    "## In-Class Exercise #2 - Create a Function that Prints All Key Value Pairs within a print .format() <br>\n",
    "<p><b>Output should be:</b><br>\n",
    "Max has blue eyes<br>\n",
    "Lilly has brown eyes<br>\n",
    "Barney has blue eyes<br>\n",
    "etc.\n",
    "</p>"
   ]
  },
  {
   "cell_type": "code",
   "execution_count": 19,
   "metadata": {},
   "outputs": [
    {
     "name": "stdout",
     "output_type": "stream",
     "text": [
      "Max has blue eyes\n",
      "Lilly has brown eyes\n",
      "Barney has blue eyes\n",
      "Larney has brown eyes\n",
      "Ted has purple eyes\n",
      "Max has blue eyes.\n",
      "Lilly has brown eyes.\n",
      "Barney has blue eyes.\n",
      "Larney has brown eyes.\n",
      "Ted has purple eyes.\n"
     ]
    }
   ],
   "source": [
    "# use the dict below\n",
    "\n",
    "people = {\n",
    "    'Max': 'blue',\n",
    "    'Lilly': 'brown',\n",
    "    'Barney': 'blue',\n",
    "    'Larney': 'brown',\n",
    "    'Ted': 'purple'\n",
    "}\n",
    "\n",
    "for k in people:\n",
    "    print(k,\"has\",people[k],\"eyes\")\n",
    "\n",
    "for k in people:\n",
    "    print(f\"{k} has {people[k]} eyes.\")\n"
   ]
  },
  {
   "cell_type": "code",
   "execution_count": null,
   "metadata": {},
   "outputs": [],
   "source": [
    "#Are Dictionaries ordered?"
   ]
  },
  {
   "cell_type": "markdown",
   "metadata": {},
   "source": [
    "##### sorted()"
   ]
  },
  {
   "cell_type": "code",
   "execution_count": null,
   "metadata": {},
   "outputs": [],
   "source": [
    "# sorts variables in order\n",
    "# sorted(dict.values()) or dict.keys() or dict.items()\n",
    "\n",
    "#using the items/values/keys method, sort a list version of the dictionary"
   ]
  },
  {
   "cell_type": "markdown",
   "metadata": {},
   "source": [
    "##### List with Dictionaries"
   ]
  },
  {
   "cell_type": "code",
   "execution_count": null,
   "metadata": {},
   "outputs": [],
   "source": []
  },
  {
   "cell_type": "markdown",
   "metadata": {},
   "source": [
    "##### Dictionaries with Lists"
   ]
  },
  {
   "cell_type": "code",
   "execution_count": null,
   "metadata": {},
   "outputs": [],
   "source": [
    "# be careful when using numbers as keys in dictionaries, don't confuse them with indexes\n"
   ]
  },
  {
   "cell_type": "markdown",
   "metadata": {},
   "source": [
    "##### Dictionaries with Dictionaries"
   ]
  },
  {
   "cell_type": "code",
   "execution_count": null,
   "metadata": {},
   "outputs": [],
   "source": [
    "# to get values, must traverse through keys\n",
    "\n"
   ]
  },
  {
   "cell_type": "markdown",
   "metadata": {},
   "source": [
    "## Dictionaries vs. Lists (over time) Example of RUNTIME\n",
    "### When inputting values in a Dictionary vs List"
   ]
  },
  {
   "cell_type": "code",
   "execution_count": null,
   "metadata": {},
   "outputs": [],
   "source": [
    "import time\n",
    "\n",
    "\n",
    "# generate fake dictionary\n",
    "d = {}\n",
    "\n",
    "for i in range(10000000):\n",
    "    d[i] = 'value'\n",
    "    \n",
    "\n",
    "# generate fake list\n",
    "big_list = [x for x in range(10000000)]"
   ]
  },
  {
   "cell_type": "code",
   "execution_count": null,
   "metadata": {},
   "outputs": [],
   "source": [
    "# tracking time for dictionary\n",
    "start_time = time.time()\n",
    "\n",
    "print(d[9999999])\n",
    "\n",
    "end_time = time.time() - start_time\n",
    "\n",
    "print('Elapsed time for dictionary: {}'.format(end_time))\n",
    "\n",
    "\n",
    "# tracking time for list\n",
    "start_time = time.time()\n",
    "\n",
    "for i in range(len(big_list)):\n",
    "    if i == 9999999:\n",
    "        print(i)\n",
    "\n",
    "end_time = time.time() - start_time\n",
    "\n",
    "print('Elapsed time for list: {}'.format(end_time))"
   ]
  },
  {
   "cell_type": "markdown",
   "metadata": {},
   "source": [
    "## Exercise #3 - Write a Function that asks someone's name and address, and then stores that into a dictionary, and continues to do so until they choose to 'quit'. Once they quit, the program should print all names and addresses. <br>\n",
    "<p>\n",
    "<b>Proper steps:</b><br>\n",
    "step 1: write a function that takes in information and stores it in a dictionary<br>\n",
    "step 2: define an empty dictionary to work with<br>\n",
    "step 3: create our loop, which asks the user for information until they quit<br>\n",
    "step 4: ask for the information, and store it into variables<br>\n",
    "step 5: check if the user types quit<br>\n",
    "step 5a: print out all information<br>\n",
    "step 5b: break out of the loop<br>\n",
    "step 6: if they didn't quit, add the information to the dictionary<br>\n",
    "step 7: invoke the function by calling it\n",
    "</p>"
   ]
  },
  {
   "cell_type": "code",
   "execution_count": 33,
   "metadata": {},
   "outputs": [
    {
     "name": "stdout",
     "output_type": "stream",
     "text": [
      "This program will ask you your name and address, when done please press quit. Would you like to add or quit?add\n",
      "Please provide your nameamir\n",
      "Please enter your address908080 street\n",
      "This program will ask you your name and address, when done please press quit. Would you like to add or quit?quit\n",
      "{'amir': '908080 street'}\n"
     ]
    }
   ],
   "source": [
    "from IPython.display import clear_output #can use this function to clean up outputs\n",
    "#clear_output()\n",
    "#input()to ask about addresses/names\n",
    "#youll need a dictionary to store the responses given by the user\n",
    "#youll need a loop to continue asking about adresses/names unless the user tells you they want to quit.\n",
    "#address_book[name] = address\n",
    "\n",
    "def info():\n",
    "    address_book = {}                                      \n",
    "    \n",
    "    ask = \"add\"\n",
    "    while ask == \"add\":\n",
    "        ask = input(\"This program will ask you your name and address, when done please press quit. Would you like to add or quit?\")\n",
    "        clear_output()\n",
    "        if ask == \"add\":\n",
    "            name = input(\"Please provide your name\")\n",
    "            clear_output\n",
    "            address = input(\"Please enter your address\")\n",
    "            clear_output\n",
    "            address_book[name] = address\n",
    "        elif ask == \"quit\":\n",
    "            break\n",
    "    print(address_book)\n",
    "    \n",
    "book1 = info()\n",
    "book2 = info()\n",
    "print(book1, book2)"
   ]
  },
  {
   "cell_type": "markdown",
   "metadata": {},
   "source": [
    "## Set <br>\n",
    "<p>A Set is an unordered collection data type that is iterable (loop), mutable, and has no duplicate elements.<br>Major advantage is that it is highly optimized in checking if something is in the set, as opposed to checking if something is in a list.</p>"
   ]
  },
  {
   "cell_type": "markdown",
   "metadata": {},
   "source": [
    "##### Declaring"
   ]
  },
  {
   "cell_type": "code",
   "execution_count": null,
   "metadata": {},
   "outputs": [],
   "source": [
    "# set() or {}\n",
    "# no order {3, 2, 1} outputs as {1, 2, 3}\n"
   ]
  },
  {
   "cell_type": "markdown",
   "metadata": {},
   "source": [
    "##### .add()"
   ]
  },
  {
   "cell_type": "code",
   "execution_count": null,
   "metadata": {},
   "outputs": [],
   "source": [
    "# set.add() \n",
    "\n"
   ]
  },
  {
   "cell_type": "markdown",
   "metadata": {},
   "source": [
    "##### .remove()"
   ]
  },
  {
   "cell_type": "code",
   "execution_count": null,
   "metadata": {},
   "outputs": [],
   "source": [
    "# removes by value\n",
    "# set.remove()\n",
    "# nums.remove(56)\n",
    "\n"
   ]
  },
  {
   "cell_type": "markdown",
   "metadata": {},
   "source": [
    "##### .union() "
   ]
  },
  {
   "cell_type": "code",
   "execution_count": null,
   "metadata": {},
   "outputs": [],
   "source": [
    "# Returns a union of two sets, can also use '|' or set.union(set)\n",
    "# joins all numbers, gets rid of duplicates\n"
   ]
  },
  {
   "cell_type": "markdown",
   "metadata": {},
   "source": [
    "##### .intersection()"
   ]
  },
  {
   "cell_type": "code",
   "execution_count": null,
   "metadata": {},
   "outputs": [],
   "source": [
    "# Returns an intersection of two sets, can also use '&'\n",
    "# only takes similar elements from both sets\n",
    "\n"
   ]
  },
  {
   "cell_type": "markdown",
   "metadata": {},
   "source": [
    "##### .difference()"
   ]
  },
  {
   "cell_type": "code",
   "execution_count": null,
   "metadata": {},
   "outputs": [],
   "source": [
    "# Returns a set containing all the elements of invoking set that are not in the second set, can also use '-'\n",
    "# only takes values from the first set that are not in the second set\n",
    "# order matters\n",
    "\n"
   ]
  },
  {
   "cell_type": "markdown",
   "metadata": {},
   "source": [
    "##### .clear()"
   ]
  },
  {
   "cell_type": "code",
   "execution_count": null,
   "metadata": {},
   "outputs": [],
   "source": [
    "# Empties the whole set\n",
    "# set.clear()\n"
   ]
  },
  {
   "cell_type": "markdown",
   "metadata": {},
   "source": [
    "##### Frozenset <br>\n",
    "<p>Frozen sets are immutable objects that only support methods and operators that produce a result without affecting the frozen set or sets to which they are applied.</p><br><b>Unique & Immutable</b>"
   ]
  },
  {
   "cell_type": "code",
   "execution_count": null,
   "metadata": {},
   "outputs": [],
   "source": [
    "# frozenset([])\n"
   ]
  },
  {
   "cell_type": "markdown",
   "metadata": {},
   "source": [
    "## Modules"
   ]
  },
  {
   "cell_type": "markdown",
   "metadata": {},
   "source": [
    "##### Importing Entire Modules"
   ]
  },
  {
   "cell_type": "code",
   "execution_count": null,
   "metadata": {},
   "outputs": [],
   "source": [
    "# import or from 'xxx' import *\n",
    "# import math\n",
    "\n"
   ]
  },
  {
   "cell_type": "markdown",
   "metadata": {},
   "source": [
    "##### Importing Methods Only"
   ]
  },
  {
   "cell_type": "code",
   "execution_count": null,
   "metadata": {},
   "outputs": [],
   "source": [
    "# from 'xxx' import 'xxx'\n",
    "# from math import floor\n",
    "\n",
    "\n"
   ]
  },
  {
   "cell_type": "markdown",
   "metadata": {},
   "source": [
    "##### Using the 'as' Keyword"
   ]
  },
  {
   "cell_type": "code",
   "execution_count": null,
   "metadata": {},
   "outputs": [],
   "source": [
    "# from 'xxx' import 'xxx' as 'xxx' or import 'xxx' as 'xxx'\n",
    "# from math import floor as f\n"
   ]
  },
  {
   "cell_type": "markdown",
   "metadata": {},
   "source": [
    "##### Creating a Module"
   ]
  },
  {
   "cell_type": "code",
   "execution_count": null,
   "metadata": {},
   "outputs": [],
   "source": []
  },
  {
   "cell_type": "markdown",
   "metadata": {},
   "source": [
    "# Exercises"
   ]
  },
  {
   "cell_type": "markdown",
   "metadata": {},
   "source": [
    "### 1) Build a Shopping Cart <br>\n",
    "<p><b>You can use either lists or dictionaries. The program should have the following capabilities:</b><br><br>\n",
    "1) Takes in input <br>\n",
    "2) Stores user input into a dictionary or list <br>\n",
    "3) The User can add or delete items <br>\n",
    "4) The User can see current shopping list <br>\n",
    "5) The program Loops until user 'quits' <br>\n",
    "6) Upon quiting the program, print out all items in the user's list <br>\n",
    "</p>"
   ]
  },
  {
   "cell_type": "code",
   "execution_count": null,
   "metadata": {},
   "outputs": [],
   "source": [
    "#Sam's Example of How to Plan A python code project\n",
    "\n",
    "# do we have multiple classes? what are those classes?\n",
    "    # team (equivalent of a cart) - add players, remove players, etc.\n",
    "    # players (equivalent of an item)\n",
    "\n",
    "# what are our items? players\n",
    "    # what are their attributes\n",
    "        # first name\n",
    "        # last name\n",
    "        # number\n",
    "        # position\n",
    "        # team\n",
    "        # age\n",
    "        # nationality\n",
    "        # transfer value\n",
    "    # do they have methods\n",
    "        # description?\n",
    "    \n",
    "# what does our cart look like? team\n",
    "    # does the team have attributes?\n",
    "        # players - list to start\n",
    "        # league\n",
    "        # manager\n",
    "        # total value\n",
    "    # methods?\n",
    "        # add player\n",
    "        # remove player\n",
    "        # fire everyone (clear cart)\n",
    "        # show lineup\n",
    "        # \"checkout\"\n",
    "        \n",
    "# looking further - what might I want to do after basic implementation\n",
    "    # multiple teams? - easy if we built object-oriented code\n",
    "    # available players? - a third class containing a \"menu\" of available players\n",
    "    # a more complicated data structure to hold my players instead of a list?\n",
    "    # some way to have my multiple teams play a game against eachother?\n",
    "    # a team can be instantiated with a bunch of players already on the team \n",
    "        # (messing with initial values/parameters of players and total_value)\n",
    "    "
   ]
  },
  {
   "cell_type": "markdown",
   "metadata": {},
   "source": []
  },
  {
   "cell_type": "code",
   "execution_count": null,
   "metadata": {},
   "outputs": [
    {
     "name": "stdout",
     "output_type": "stream",
     "text": [
      "------------------Menu Items-------------------\n",
      "soda-$1.00\n",
      "chips-$1.00\n",
      "pickle-$1.00\n",
      "icecream cone-$2.00\n",
      "candy-$2.00\n",
      "gum-$2.00\n",
      "juice-$3.00\n",
      "\n",
      "What would you like to do? [0] to add an item, [1] to remove an item, [2] to remove all items, [3] to show your cart, [4] to quit.0\n",
      "What would you like to add from the menu? type in the item you want to add in lowercase.candy\n",
      "What is the price of your item? Numbers only please!2\n",
      "newtotal:2 cart:{'candy': 2}\n",
      "What would you like to do? [0] to add an item, [1] to remove an item, [2] to remove all items, [3] to show your cart, [4] to quit.soda\n",
      "What would you like to do? [0] to add an item, [1] to remove an item, [2] to remove all items, [3] to show your cart, [4] to quit.0\n",
      "What would you like to add from the menu? type in the item you want to add in lowercase.soda\n",
      "What is the price of your item? Numbers only please!1\n",
      "newtotal:3 cart:{'candy': 2, 'soda': 1}\n",
      "What would you like to do? [0] to add an item, [1] to remove an item, [2] to remove all items, [3] to show your cart, [4] to quit.2\n",
      "You have emptied your cart! Do you want something else???\n",
      "What would you like to do? [0] to add an item, [1] to remove an item, [2] to remove all items, [3] to show your cart, [4] to quit.3\n",
      "newtotal:3 cart:{}\n"
     ]
    }
   ],
   "source": [
    "from IPython.display import clear_output\n",
    "\n",
    "# Ask the user four bits of input: Do you want to : Show/Add/Delete or Quit?\n",
    "#1 take in input\n",
    "#2 loop until user says quit\n",
    "\n",
    "\n",
    "#What are the attributes of our items for sale ie name and price?\n",
    "#What do we want to do with the class itemsforsale? we want to create items and be able to show the item info so we\n",
    "#create a class method to show the information about the items for sale.\n",
    "\n",
    "\n",
    "#what methods do we want our cart to perform-show/add/remove/clear/checkout etc?\n",
    "class Cart:\n",
    "    def __init__(self):  #ask instructor why self.items does not need to be a parameter??\n",
    "        self.items= {}\n",
    "        self.total= 0\n",
    "        \n",
    "   \n",
    "    def show(self):\n",
    "        \"\"\"prints a description of the items in the cart\"\"\"\n",
    "        print(f\"newtotal:{self.total} cart:{self.items}\") \n",
    "    \n",
    "    def add(self, newitem):\n",
    "        #take an existing item (input from the user)\n",
    "        #add it to the cart\n",
    "        \"\"\"Add items to the cart\"\"\"\n",
    "        price= int(input(\"What is the price of your item? Numbers only please!\"))\n",
    "        self.items[newitem]= price #what does this line of code mean?\n",
    "        #increase the total of the cart items\n",
    "        self.total += price #how does python know the value of the newitem\n",
    "        print(f\"newtotal:{self.total} cart:{self.items}\")      \n",
    "    \n",
    "    def remove(self):\n",
    "        \"\"\"remove items from the cart\"\"\"\n",
    "        if not self.items:\n",
    "            print(f\"{self.items}There are no items in your cart to remove!\")\n",
    "            return #what does this line of code do?\n",
    "        #self.show()\n",
    "        print(\"\\n\")\n",
    "        name= input(\"what item would you like to remove? Please type your item in all lowercase.\")\n",
    "        self.items.pop(name, f'There are no items for {name}, you may want to check your spelling.')\n",
    "        #if name in self.items:\n",
    "#             self.total -= self.items[name].price #what does this code mean and how does python know variable value?\n",
    "#             print(\"This item has been removed!\")\n",
    "#             del self.items[name]\n",
    "#         else:\n",
    "#             print(\"That item is not in your cart!\")\n",
    "    \n",
    "    def clear(self):\n",
    "        \"\"\"Empty the entire cart\"\"\"\n",
    "        self.items= {}\n",
    "        print(\"You have emptied your cart! Do you want something else???\")\n",
    "    def checkout(self):\n",
    "        \"\"\"stop shopping and checkout w total\"\"\"\n",
    "    \n",
    "    def creatcart():\n",
    "        pass\n",
    "\n",
    "\n",
    "print(\"------------------Menu Items-------------------\")#print statement to show the customer what the menu items are to select from\n",
    "print(\"soda-$1.00\")\n",
    "print(\"chips-$1.00\")\n",
    "print(\"pickle-$1.00\")\n",
    "print(\"icecream cone-$2.00\")\n",
    "print(\"candy-$2.00\")\n",
    "print(\"gum-$2.00\")\n",
    "print(\"juice-$3.00\\n\")\n",
    "\n",
    "def drivercode(cart):\n",
    "\n",
    "    while True:\n",
    "        choice=input(\"What would you like to do? [0] to add an item, [1] to remove an item, [2] to remove all items, [3] to show your cart, [4] to quit.\")\n",
    "        if choice== '0':\n",
    "            newitem = input(\"What would you like to add from the menu? type in the item you want to add in lowercase.\")\n",
    "            cart.add(newitem)\n",
    "        elif choice== '1':\n",
    "            cart.remove()\n",
    "        elif choice== '2':\n",
    "            cart.clear()\n",
    "        elif choice== '3':\n",
    "            cart.show()\n",
    "        elif choice== '4':\n",
    "            print(\"Thank you for shopping, come again soon!\")\n",
    "            break\n",
    "amircart= Cart()        \n",
    "drivercode(amircart)\n",
    "\n",
    "\n",
    "\n",
    "\n",
    "\n",
    "\n",
    "#price= \"$1\"\n",
    "\n",
    "# cart={} #starting empty cart dictionary\n",
    "\n",
    "# customer_name=input(\"Please tell me your name so I can start building your cart!\")\n",
    "# clear_output\n",
    "# greet_user(customer_name)\n",
    "\n",
    "# cart_open = True #Turn on a switch for the program so that it will keep cycling through the while loop and allowing the user to either show,add, or delete.\n",
    "# while cart_open == True:\n",
    "#     ask=input(\"Would you like to show/add/delete/or quit from your cart?\")\n",
    "#     clear_output()\n",
    "#     if ask == 'add':\n",
    "#         name_of_item=input(\"Please select an item from the Menu to add to your cart:\")#I need to store the cart in a dictionary.\n",
    "#         clear_output()\n",
    "#         cart[name_of_item]=price\n",
    "#     elif ask == 'delete':\n",
    "#         print(cart)\n",
    "#         deleted_item=input(\"what would you like to delete?\" + \"\\nHere are the items currently in your cart, please select one to delete:\")\n",
    "#         del(cart[deleted_item])#delete cart key\n",
    "#         clear_output()\n",
    "#     elif ask == 'show':\n",
    "#         print(cart)#show a print statement for items in the customer's cart\n",
    "#     elif ask == 'quit':\n",
    "#         goodbye(customer_name)\n",
    "#         cart_open = False #The user has chosen to quit here so we would turn the switch off to stop cycling the while loop.\n",
    "#         break #provides a break point to break out of the current while loop\n",
    "#     else:\n",
    "#         pass #error proofing\n",
    "        \n"
   ]
  },
  {
   "cell_type": "code",
   "execution_count": 21,
   "metadata": {},
   "outputs": [
    {
     "name": "stdout",
     "output_type": "stream",
     "text": [
      "Amir gold\n"
     ]
    }
   ],
   "source": [
    "class Cart:\n",
    "    def __init__(self,):\n",
    "        self.total= 0\n",
    "\n",
    "    def createcustomer(self, name):\n",
    "\n",
    "        \n",
    "customer1= Customer('Amir', 'gold')\n",
    "print(customer1.name,customer1.membership_type)"
   ]
  },
  {
   "cell_type": "code",
   "execution_count": 17,
   "metadata": {},
   "outputs": [],
   "source": [
    "#a class is a better structure than a list"
   ]
  },
  {
   "cell_type": "markdown",
   "metadata": {},
   "source": [
    "### 2) Create a Module in VS Code and Import It into jupyter notebook <br>\n",
    "<p><b>Module should have the following capabilities:</b><br><br>\n",
    "1) Has a function to calculate the square footage of a house <br>\n",
    "    <b>Reminder of Formula: Length X Width == Area<br>\n",
    "        <hr>\n",
    "2) Has a function to calculate the circumference of a circle <br><br>\n",
    "<b>Program in Jupyter Notebook should take in user input and use imported functions to calculate a circle's circumference or a houses square footage</b>\n",
    "</p>"
   ]
  },
  {
   "cell_type": "code",
   "execution_count": null,
   "metadata": {},
   "outputs": [],
   "source": []
  },
  {
   "cell_type": "code",
   "execution_count": null,
   "metadata": {},
   "outputs": [],
   "source": []
  },
  {
   "cell_type": "code",
   "execution_count": null,
   "metadata": {},
   "outputs": [],
   "source": []
  }
 ],
 "metadata": {
  "kernelspec": {
   "display_name": "Python 3 (ipykernel)",
   "language": "python",
   "name": "python3"
  },
  "language_info": {
   "codemirror_mode": {
    "name": "ipython",
    "version": 3
   },
   "file_extension": ".py",
   "mimetype": "text/x-python",
   "name": "python",
   "nbconvert_exporter": "python",
   "pygments_lexer": "ipython3",
   "version": "3.9.7"
  }
 },
 "nbformat": 4,
 "nbformat_minor": 2
}
